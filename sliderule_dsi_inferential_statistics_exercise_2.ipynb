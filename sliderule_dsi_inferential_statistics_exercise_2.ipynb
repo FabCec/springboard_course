{
 "cells": [
  {
   "cell_type": "markdown",
   "metadata": {},
   "source": [
    "# Examining Racial Discrimination in the US Job Market\n",
    "\n",
    "### Background\n",
    "Racial discrimination continues to be pervasive in cultures throughout the world. Researchers examined the level of racial discrimination in the United States labor market by randomly assigning identical résumés to black-sounding or white-sounding names and observing the impact on requests for interviews from employers.\n",
    "\n",
    "### Data\n",
    "In the dataset provided, each row represents a resume. The 'race' column has two values, 'b' and 'w', indicating black-sounding and white-sounding. The column 'call' has two values, 1 and 0, indicating whether the resume received a call from employers or not.\n",
    "\n",
    "Note that the 'b' and 'w' values in race are assigned randomly to the resumes when presented to the employer."
   ]
  },
  {
   "cell_type": "markdown",
   "metadata": {},
   "source": [
    "<div class=\"span5 alert alert-info\">\n",
    "### Exercises\n",
    "You will perform a statistical analysis to establish whether race has a significant impact on the rate of callbacks for resumes.\n",
    "\n",
    "Answer the following questions **in this notebook below and submit to your Github account**. \n",
    "\n",
    "   1. What test is appropriate for this problem? Does CLT apply?\n",
    "   2. What are the null and alternate hypotheses?\n",
    "   3. Compute margin of error, confidence interval, and p-value. Try using both the bootstrapping and the frequentist statistical approaches.\n",
    "   4. Write a story describing the statistical significance in the context or the original problem.\n",
    "   5. Does your analysis mean that race/name is the most important factor in callback success? Why or why not? If not, how would you amend your analysis?\n",
    "\n",
    "You can include written notes in notebook cells using Markdown: \n",
    "   - In the control panel at the top, choose Cell > Cell Type > Markdown\n",
    "   - Markdown syntax: http://nestacms.com/docs/creating-content/markdown-cheat-sheet\n",
    "\n",
    "\n",
    "#### Resources\n",
    "+ Experiment information and data source: http://www.povertyactionlab.org/evaluation/discrimination-job-market-united-states\n",
    "+ Scipy statistical methods: http://docs.scipy.org/doc/scipy/reference/stats.html \n",
    "+ Markdown syntax: http://nestacms.com/docs/creating-content/markdown-cheat-sheet\n",
    "+ Formulas for the Bernoulli distribution: https://en.wikipedia.org/wiki/Bernoulli_distribution\n",
    "</div>\n",
    "****"
   ]
  },
  {
   "cell_type": "code",
   "execution_count": 1,
   "metadata": {
    "collapsed": true
   },
   "outputs": [],
   "source": [
    "import pandas as pd\n",
    "import numpy as np\n",
    "from scipy import stats"
   ]
  },
  {
   "cell_type": "code",
   "execution_count": 2,
   "metadata": {
    "collapsed": true
   },
   "outputs": [],
   "source": [
    "data = pd.io.stata.read_stata('data/us_job_market_discrimination.dta')"
   ]
  },
  {
   "cell_type": "code",
   "execution_count": 3,
   "metadata": {
    "collapsed": false
   },
   "outputs": [
    {
     "name": "stdout",
     "output_type": "stream",
     "text": [
      "We observe 235.0 callbacks for white persons, out of 2435\n",
      "We observe 157.0 callbacks for black persons, out of 2435\n"
     ]
    }
   ],
   "source": [
    "# number of callbacks for black-sounding names\n",
    "\n",
    "N = len(data[data.race=='b'])\n",
    "\n",
    "print('We observe ' + str(sum(data[data.race=='w'].call)) + ' callbacks for white persons, out of '+ str(N))\n",
    "\n",
    "print('We observe ' + str(sum(data[data.race=='b'].call)) + ' callbacks for black persons, out of '+ str(N))"
   ]
  },
  {
   "cell_type": "code",
   "execution_count": 4,
   "metadata": {
    "collapsed": false
   },
   "outputs": [
    {
     "data": {
      "text/html": [
       "<div>\n",
       "<style scoped>\n",
       "    .dataframe tbody tr th:only-of-type {\n",
       "        vertical-align: middle;\n",
       "    }\n",
       "\n",
       "    .dataframe tbody tr th {\n",
       "        vertical-align: top;\n",
       "    }\n",
       "\n",
       "    .dataframe thead th {\n",
       "        text-align: right;\n",
       "    }\n",
       "</style>\n",
       "<table border=\"1\" class=\"dataframe\">\n",
       "  <thead>\n",
       "    <tr style=\"text-align: right;\">\n",
       "      <th></th>\n",
       "      <th>id</th>\n",
       "      <th>ad</th>\n",
       "      <th>education</th>\n",
       "      <th>ofjobs</th>\n",
       "      <th>yearsexp</th>\n",
       "      <th>honors</th>\n",
       "      <th>volunteer</th>\n",
       "      <th>military</th>\n",
       "      <th>empholes</th>\n",
       "      <th>occupspecific</th>\n",
       "      <th>...</th>\n",
       "      <th>compreq</th>\n",
       "      <th>orgreq</th>\n",
       "      <th>manuf</th>\n",
       "      <th>transcom</th>\n",
       "      <th>bankreal</th>\n",
       "      <th>trade</th>\n",
       "      <th>busservice</th>\n",
       "      <th>othservice</th>\n",
       "      <th>missind</th>\n",
       "      <th>ownership</th>\n",
       "    </tr>\n",
       "  </thead>\n",
       "  <tbody>\n",
       "    <tr>\n",
       "      <th>0</th>\n",
       "      <td>b</td>\n",
       "      <td>1</td>\n",
       "      <td>4</td>\n",
       "      <td>2</td>\n",
       "      <td>6</td>\n",
       "      <td>0</td>\n",
       "      <td>0</td>\n",
       "      <td>0</td>\n",
       "      <td>1</td>\n",
       "      <td>17</td>\n",
       "      <td>...</td>\n",
       "      <td>1.0</td>\n",
       "      <td>0.0</td>\n",
       "      <td>1.0</td>\n",
       "      <td>0.0</td>\n",
       "      <td>0.0</td>\n",
       "      <td>0.0</td>\n",
       "      <td>0.0</td>\n",
       "      <td>0.0</td>\n",
       "      <td>0.0</td>\n",
       "      <td></td>\n",
       "    </tr>\n",
       "    <tr>\n",
       "      <th>1</th>\n",
       "      <td>b</td>\n",
       "      <td>1</td>\n",
       "      <td>3</td>\n",
       "      <td>3</td>\n",
       "      <td>6</td>\n",
       "      <td>0</td>\n",
       "      <td>1</td>\n",
       "      <td>1</td>\n",
       "      <td>0</td>\n",
       "      <td>316</td>\n",
       "      <td>...</td>\n",
       "      <td>1.0</td>\n",
       "      <td>0.0</td>\n",
       "      <td>1.0</td>\n",
       "      <td>0.0</td>\n",
       "      <td>0.0</td>\n",
       "      <td>0.0</td>\n",
       "      <td>0.0</td>\n",
       "      <td>0.0</td>\n",
       "      <td>0.0</td>\n",
       "      <td></td>\n",
       "    </tr>\n",
       "    <tr>\n",
       "      <th>2</th>\n",
       "      <td>b</td>\n",
       "      <td>1</td>\n",
       "      <td>4</td>\n",
       "      <td>1</td>\n",
       "      <td>6</td>\n",
       "      <td>0</td>\n",
       "      <td>0</td>\n",
       "      <td>0</td>\n",
       "      <td>0</td>\n",
       "      <td>19</td>\n",
       "      <td>...</td>\n",
       "      <td>1.0</td>\n",
       "      <td>0.0</td>\n",
       "      <td>1.0</td>\n",
       "      <td>0.0</td>\n",
       "      <td>0.0</td>\n",
       "      <td>0.0</td>\n",
       "      <td>0.0</td>\n",
       "      <td>0.0</td>\n",
       "      <td>0.0</td>\n",
       "      <td></td>\n",
       "    </tr>\n",
       "    <tr>\n",
       "      <th>3</th>\n",
       "      <td>b</td>\n",
       "      <td>1</td>\n",
       "      <td>3</td>\n",
       "      <td>4</td>\n",
       "      <td>6</td>\n",
       "      <td>0</td>\n",
       "      <td>1</td>\n",
       "      <td>0</td>\n",
       "      <td>1</td>\n",
       "      <td>313</td>\n",
       "      <td>...</td>\n",
       "      <td>1.0</td>\n",
       "      <td>0.0</td>\n",
       "      <td>1.0</td>\n",
       "      <td>0.0</td>\n",
       "      <td>0.0</td>\n",
       "      <td>0.0</td>\n",
       "      <td>0.0</td>\n",
       "      <td>0.0</td>\n",
       "      <td>0.0</td>\n",
       "      <td></td>\n",
       "    </tr>\n",
       "    <tr>\n",
       "      <th>4</th>\n",
       "      <td>b</td>\n",
       "      <td>1</td>\n",
       "      <td>3</td>\n",
       "      <td>3</td>\n",
       "      <td>22</td>\n",
       "      <td>0</td>\n",
       "      <td>0</td>\n",
       "      <td>0</td>\n",
       "      <td>0</td>\n",
       "      <td>313</td>\n",
       "      <td>...</td>\n",
       "      <td>1.0</td>\n",
       "      <td>1.0</td>\n",
       "      <td>0.0</td>\n",
       "      <td>0.0</td>\n",
       "      <td>0.0</td>\n",
       "      <td>0.0</td>\n",
       "      <td>0.0</td>\n",
       "      <td>1.0</td>\n",
       "      <td>0.0</td>\n",
       "      <td>Nonprofit</td>\n",
       "    </tr>\n",
       "  </tbody>\n",
       "</table>\n",
       "<p>5 rows × 65 columns</p>\n",
       "</div>"
      ],
      "text/plain": [
       "  id ad  education  ofjobs  yearsexp  honors  volunteer  military  empholes  \\\n",
       "0  b  1          4       2         6       0          0         0         1   \n",
       "1  b  1          3       3         6       0          1         1         0   \n",
       "2  b  1          4       1         6       0          0         0         0   \n",
       "3  b  1          3       4         6       0          1         0         1   \n",
       "4  b  1          3       3        22       0          0         0         0   \n",
       "\n",
       "   occupspecific    ...      compreq  orgreq  manuf  transcom  bankreal trade  \\\n",
       "0             17    ...          1.0     0.0    1.0       0.0       0.0   0.0   \n",
       "1            316    ...          1.0     0.0    1.0       0.0       0.0   0.0   \n",
       "2             19    ...          1.0     0.0    1.0       0.0       0.0   0.0   \n",
       "3            313    ...          1.0     0.0    1.0       0.0       0.0   0.0   \n",
       "4            313    ...          1.0     1.0    0.0       0.0       0.0   0.0   \n",
       "\n",
       "  busservice othservice  missind  ownership  \n",
       "0        0.0        0.0      0.0             \n",
       "1        0.0        0.0      0.0             \n",
       "2        0.0        0.0      0.0             \n",
       "3        0.0        0.0      0.0             \n",
       "4        0.0        1.0      0.0  Nonprofit  \n",
       "\n",
       "[5 rows x 65 columns]"
      ]
     },
     "execution_count": 4,
     "metadata": {},
     "output_type": "execute_result"
    }
   ],
   "source": [
    "data.head()"
   ]
  },
  {
   "cell_type": "markdown",
   "metadata": {},
   "source": [
    "Let us define $p_b$ and $p_w$ as the callback probability for white and black races. The hypothesis we want to test is whether the callback probabilities are independent of the race, i.e.,$H_0 : p_b = p_w$. We are interested in understanding whether $p_w$ is actually larger than $p_b$, i.e., $H_1 : p_w > p_b$.\n",
    "\n",
    "We aim to perform a one-sided test. Note that the the observations are independent one from the other since the races are assigned randomly. Each observation can be seen as the outcome of a Bernoulli random variable with parameter $p_w$ or $p_b$ depending on the race. \n",
    "\n",
    "Note that the number of callback per race $N^{(b)}$ and $N^{(w)}$ follow a binomial distribution with $N = 2435$ and the success probability equal to the race callback probability. \n",
    "\n",
    "The CLT applies, and in particular, we have that\n",
    "$$\n",
    "\\frac{N^{(w)} - N p_w }{\\sqrt{N p_w(1 - p_w)} } \\xrightarrow{N\\rightarrow \\infty} \\mathcal{N} \\big( 0 , 1 \\big),\n",
    "\\qquad\n",
    "\\frac{N^{(b)} - N p_b }{\\sqrt{N p_b(1 - p_b)} } \\xrightarrow{N\\rightarrow \\infty} \\mathcal{N} \\big( 0 , 1 \\big)\n",
    "$$"
   ]
  },
  {
   "cell_type": "code",
   "execution_count": 5,
   "metadata": {
    "collapsed": false
   },
   "outputs": [
    {
     "name": "stdout",
     "output_type": "stream",
     "text": [
      "We observe 78.0 calls more for white persons. The sampled difference in callback probability is thus 0.0320328542094\n"
     ]
    }
   ],
   "source": [
    "w = data[data.race=='w']\n",
    "b = data[data.race=='b']\n",
    "\n",
    "def bs_unpaired_statistics (series1, series2, fun, size = 1) :\n",
    "    ''' Return statistics from permutated bootstrapped samples '''\n",
    "    series = series1.append(series2)\n",
    "    stat = np.empty(size)\n",
    "    for i in range(size):\n",
    "        temp_perm = np.random.permutation(series)\n",
    "        stat[i] = fun(temp_perm[:len(series1)]) - fun(temp_perm[len(series1):])\n",
    "    return stat\n",
    "\n",
    "diff_obs = w.call.sum() - b.call.sum()\n",
    "print('We observe ' + str(diff_obs) + ' calls more for white persons. The sampled difference in callback probability is thus ' + str(diff_obs/N))"
   ]
  },
  {
   "cell_type": "code",
   "execution_count": 6,
   "metadata": {
    "collapsed": false
   },
   "outputs": [
    {
     "name": "stdout",
     "output_type": "stream",
     "text": [
      "Bootsrap techinique: The p-value for the test obtained is 0.0: the hypothesis can be rejected\n"
     ]
    }
   ],
   "source": [
    "# Use the bootstrap method to compute the p-value for the hypothesis that the callback is not influenced by the race \n",
    "bs_diff = bs_unpaired_statistics (w['call'], b['call'], np.mean, size = 10000)\n",
    "\n",
    "pi_value = np.sum(bs_diff > diff_obs)/len(bs_diff)\n",
    "pi_value\n",
    "\n",
    "print('Bootsrap techinique: The p-value for the test obtained is ' + str(pi_value) + ': the hypothesis can be rejected')"
   ]
  },
  {
   "cell_type": "markdown",
   "metadata": {},
   "source": [
    "### We aim to perform a two-sample t-student for the equality of two means, i.e., $H_0: p_b = p_w$.\n",
    "\n",
    "Under the hypothesis, the test statistic we use is\n",
    "$$\n",
    " T = \\frac{ \\bar x_w - \\bar x_b }{ \\sqrt{\\frac{ s_w^2 + s_b^2 }{N}} }\n",
    "$$\n",
    "that is distributed as a student random variable with $d$ degrees of freedom, where\n",
    "$$\n",
    " d = \\frac{  \\big(\\frac{s_w^2 + s_b^2}{N}\\big)^2 }{ \\frac{((s_w^2)^2 + (s_b^2))^2}{N^2(N - 1)}}\n",
    "   = \\frac{  (s_w^2 + s_b^2)^2(N - 1)}  {((s_w^2)^2 + (s_b^2))^2}\n",
    "$$"
   ]
  },
  {
   "cell_type": "code",
   "execution_count": 7,
   "metadata": {
    "collapsed": false
   },
   "outputs": [],
   "source": [
    "var_w = np.var(w['call'], ddof=1)\n",
    "var_b = np.var(b['call'], ddof=1)\n",
    "\n",
    "diff_means = np.mean(w['call']) - np.mean(b['call'])\n",
    "\n",
    "deg = np.floor((((var_w + var_b)**2)*(N-1))/(var_w**2 + var_b**2))"
   ]
  },
  {
   "cell_type": "code",
   "execution_count": 8,
   "metadata": {
    "collapsed": false
   },
   "outputs": [
    {
     "name": "stdout",
     "output_type": "stream",
     "text": [
      "\n",
      "The 95% confidence 1-sided interval for the difference in callback probability is [0.0192253041053, Inf] \n",
      "\n",
      "Frequentist statistic: The statistic takes a value of 4.11473837355 and the p-value for the test obtained is 2.00252639442e-05: the hypothesis can be rejected.\n",
      "\n"
     ]
    }
   ],
   "source": [
    "# Look at the confidence interval\n",
    "\n",
    "from scipy.stats import t \n",
    "conf_int_range = t.ppf(0.95, deg)\n",
    "aux_term = np.sqrt( (var_b + var_w)/N )\n",
    "\n",
    "conf_interval_l = np.mean(w['call']) - np.mean(b['call']) - conf_int_range*( aux_term )\n",
    "         \n",
    "print('\\nThe 95% confidence 1-sided interval for the difference in callback probability is [' + str(conf_interval_l)  +', Inf] \\n')              \n",
    "\n",
    "# Look at the p-value for the test for equal means\n",
    "\n",
    "T = (np.mean(w['call']) - np.mean(b['call']))/ aux_term \n",
    "\n",
    "p_value = 1 - t.cdf(T, len(data[data.race=='b']) -1)\n",
    "print('Frequentist statistic: The statistic takes a value of ' + str(T) + ' and the p-value for the test obtained is ' + str(p_value) + ': the hypothesis can be rejected.\\n')"
   ]
  },
  {
   "cell_type": "markdown",
   "metadata": {},
   "source": [
    "### Story\n",
    "We conclude that racial discrimination continues to be pervasive in cultures throughout the world. The analysis performed showed that the callback probability is not the same for white and black candidates, in particular with 95% of confidence we may claim that such probability is 0.019 higher for white candidates.\n",
    "\n",
    "That is does not establish that the race is the most important factor in probability callback, but a solution to this discriminatory policy necessary has to be found."
   ]
  },
  {
   "cell_type": "code",
   "execution_count": 24,
   "metadata": {
    "collapsed": false
   },
   "outputs": [
    {
     "name": "stdout",
     "output_type": "stream",
     "text": [
      "<class 'pandas.core.frame.DataFrame'>\n",
      "Int64Index: 4870 entries, 0 to 4869\n",
      "Data columns (total 65 columns):\n",
      "id                    4870 non-null object\n",
      "ad                    4870 non-null object\n",
      "education             4870 non-null int8\n",
      "ofjobs                4870 non-null int8\n",
      "yearsexp              4870 non-null int8\n",
      "honors                4870 non-null int8\n",
      "volunteer             4870 non-null int8\n",
      "military              4870 non-null int8\n",
      "empholes              4870 non-null int8\n",
      "occupspecific         4870 non-null int16\n",
      "occupbroad            4870 non-null int8\n",
      "workinschool          4870 non-null int8\n",
      "email                 4870 non-null int8\n",
      "computerskills        4870 non-null int8\n",
      "specialskills         4870 non-null int8\n",
      "firstname             4870 non-null object\n",
      "sex                   4870 non-null object\n",
      "race                  4870 non-null object\n",
      "h                     4870 non-null float32\n",
      "l                     4870 non-null float32\n",
      "call                  4870 non-null float32\n",
      "city                  4870 non-null object\n",
      "kind                  4870 non-null object\n",
      "adid                  4870 non-null float32\n",
      "fracblack             4784 non-null float32\n",
      "fracwhite             4784 non-null float32\n",
      "lmedhhinc             4784 non-null float32\n",
      "fracdropout           4784 non-null float32\n",
      "fraccolp              4784 non-null float32\n",
      "linc                  4784 non-null float32\n",
      "col                   4870 non-null float32\n",
      "expminreq             4870 non-null object\n",
      "schoolreq             4870 non-null object\n",
      "eoe                   4870 non-null float32\n",
      "parent_sales          1672 non-null float32\n",
      "parent_emp            1722 non-null float32\n",
      "branch_sales          608 non-null float32\n",
      "branch_emp            658 non-null float32\n",
      "fed                   3102 non-null float32\n",
      "fracblack_empzip      1918 non-null float32\n",
      "fracwhite_empzip      1918 non-null float32\n",
      "lmedhhinc_empzip      1908 non-null float32\n",
      "fracdropout_empzip    1918 non-null float32\n",
      "fraccolp_empzip       1918 non-null float32\n",
      "linc_empzip           1918 non-null float32\n",
      "manager               4870 non-null float32\n",
      "supervisor            4870 non-null float32\n",
      "secretary             4870 non-null float32\n",
      "offsupport            4870 non-null float32\n",
      "salesrep              4870 non-null float32\n",
      "retailsales           4870 non-null float32\n",
      "req                   4870 non-null float32\n",
      "expreq                4870 non-null float32\n",
      "comreq                4870 non-null float32\n",
      "educreq               4870 non-null float32\n",
      "compreq               4870 non-null float32\n",
      "orgreq                4870 non-null float32\n",
      "manuf                 4870 non-null float32\n",
      "transcom              4870 non-null float32\n",
      "bankreal              4870 non-null float32\n",
      "trade                 4870 non-null float32\n",
      "busservice            4870 non-null float32\n",
      "othservice            4870 non-null float32\n",
      "missind               4870 non-null float32\n",
      "ownership             4870 non-null object\n",
      "dtypes: float32(42), int16(1), int8(12), object(10)\n",
      "memory usage: 1.4+ MB\n"
     ]
    }
   ],
   "source": [
    "data.info()"
   ]
  },
  {
   "cell_type": "code",
   "execution_count": 40,
   "metadata": {
    "collapsed": false
   },
   "outputs": [],
   "source": [
    "my_dict = {}\n",
    "\n",
    "for col in data.columns:\n",
    "    if data[col].dtype == 'float32' :\n",
    "        corr = np.corrcoef(data['call'], data[col])[0,1]\n",
    "        if corr != np.nan :\n",
    "            my_dict[col] = corr\n",
    "        \n",
    "    \n",
    "    if data[col].dtype == 'int8' :\n",
    "        corr = np.corrcoef(data['call'], data[col])[0,1]\n",
    "        my_dict[col] = corr    \n",
    "        if corr != np.nan :\n",
    "            my_dict[col] = corr\n",
    "            \n",
    "    if data[col].dtype == 'int16' :\n",
    "        corr = np.corrcoef(data['call'], data[col])[0,1]\n",
    "        my_dict[col] = corr    \n",
    "        if corr != np.nan :\n",
    "            my_dict[col] = corr\n",
    "        "
   ]
  },
  {
   "cell_type": "code",
   "execution_count": 41,
   "metadata": {
    "collapsed": false
   },
   "outputs": [
    {
     "data": {
      "text/plain": [
       "{'adid': 0.063178218561005806,\n",
       " 'bankreal': -0.008995708126726662,\n",
       " 'branch_emp': nan,\n",
       " 'branch_sales': nan,\n",
       " 'busservice': 0.0068819759172010107,\n",
       " 'call': 1.0,\n",
       " 'col': -0.0084791840720723991,\n",
       " 'compreq': -0.024907432828978084,\n",
       " 'computerskills': -0.028813216729121592,\n",
       " 'comreq': 0.0024212667779229097,\n",
       " 'education': -0.0057477955827743956,\n",
       " 'educreq': -0.033864424187175432,\n",
       " 'email': 0.025880369289595799,\n",
       " 'empholes': 0.071888016528191573,\n",
       " 'eoe': 0.0030921553856934443,\n",
       " 'expreq': -0.019249538815736301,\n",
       " 'fed': nan,\n",
       " 'fracblack': nan,\n",
       " 'fracblack_empzip': nan,\n",
       " 'fraccolp': nan,\n",
       " 'fraccolp_empzip': nan,\n",
       " 'fracdropout': nan,\n",
       " 'fracdropout_empzip': nan,\n",
       " 'fracwhite': nan,\n",
       " 'fracwhite_empzip': nan,\n",
       " 'h': 0.025835422657348835,\n",
       " 'honors': 0.071951068916825525,\n",
       " 'l': -0.025835422657348835,\n",
       " 'linc': nan,\n",
       " 'linc_empzip': nan,\n",
       " 'lmedhhinc': nan,\n",
       " 'lmedhhinc_empzip': nan,\n",
       " 'manager': -0.020268538239853407,\n",
       " 'manuf': -0.028785400797793445,\n",
       " 'military': -0.020576686700530807,\n",
       " 'missind': -0.0075549882671720175,\n",
       " 'occupbroad': 0.034535851452410893,\n",
       " 'occupspecific': 0.040548280976208002,\n",
       " 'offsupport': 0.047783425937063619,\n",
       " 'ofjobs': 0.0023111491894308631,\n",
       " 'orgreq': -0.033415941505238592,\n",
       " 'othservice': 0.03611419380810748,\n",
       " 'parent_emp': nan,\n",
       " 'parent_sales': nan,\n",
       " 'req': -0.041699213536177018,\n",
       " 'retailsales': 0.0023357179286611434,\n",
       " 'salesrep': -0.021584134399194058,\n",
       " 'secretary': 0.0040380918005396508,\n",
       " 'specialskills': 0.11107431271030771,\n",
       " 'supervisor': -0.012060985054054991,\n",
       " 'trade': -0.021852605656741818,\n",
       " 'transcom': 0.035558292293168071,\n",
       " 'volunteer': 0.007197011317505656,\n",
       " 'workinschool': -0.027887870577559471,\n",
       " 'yearsexp': 0.061436490287060101}"
      ]
     },
     "execution_count": 41,
     "metadata": {},
     "output_type": "execute_result"
    }
   ],
   "source": [
    "my_dict"
   ]
  },
  {
   "cell_type": "code",
   "execution_count": null,
   "metadata": {
    "collapsed": true
   },
   "outputs": [],
   "source": []
  }
 ],
 "metadata": {
  "kernelspec": {
   "display_name": "Python 3",
   "language": "python",
   "name": "python3"
  },
  "language_info": {
   "codemirror_mode": {
    "name": "ipython",
    "version": 3
   },
   "file_extension": ".py",
   "mimetype": "text/x-python",
   "name": "python",
   "nbconvert_exporter": "python",
   "pygments_lexer": "ipython3",
   "version": "3.6.4"
  }
 },
 "nbformat": 4,
 "nbformat_minor": 1
}
