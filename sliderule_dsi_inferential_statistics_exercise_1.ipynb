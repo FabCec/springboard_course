{
 "cells": [
  {
   "cell_type": "markdown",
   "metadata": {},
   "source": [
    "# What is the True Normal Human Body Temperature? \n",
    "\n",
    "#### Background\n",
    "\n",
    "The mean normal body temperature was held to be 37$^{\\circ}$C or 98.6$^{\\circ}$F for more than 120 years since it was first conceptualized and reported by Carl Wunderlich in a famous 1868 book. But, is this value statistically correct?"
   ]
  },
  {
   "cell_type": "markdown",
   "metadata": {},
   "source": [
    "<h3>Exercises</h3>\n",
    "\n",
    "<p>In this exercise, you will analyze a dataset of human body temperatures and employ the concepts of hypothesis testing, confidence intervals, and statistical significance.</p>\n",
    "\n",
    "<p>Answer the following questions <b>in this notebook below and submit to your Github account</b>.</p> \n",
    "\n",
    "<ol>\n",
    "<li>  Is the distribution of body temperatures normal? \n",
    "    <ul>\n",
    "    <li> Although this is not a requirement for the Central Limit Theorem to hold (read the introduction on Wikipedia's page about the CLT carefully: https://en.wikipedia.org/wiki/Central_limit_theorem), it gives us some peace of mind that the population may also be normally distributed if we assume that this sample is representative of the population.\n",
    "    <li> Think about the way you're going to check for the normality of the distribution. Graphical methods are usually used first, but there are also other ways: https://en.wikipedia.org/wiki/Normality_test\n",
    "    </ul>\n",
    "<li>  Is the sample size large? Are the observations independent?\n",
    "    <ul>\n",
    "    <li> Remember that this is a condition for the Central Limit Theorem, and hence the statistical tests we are using, to apply.\n",
    "    </ul>\n",
    "<li>  Is the true population mean really 98.6 degrees F?\n",
    "    <ul>\n",
    "    <li> First, try a bootstrap hypothesis test.\n",
    "    <li> Now, let's try frequentist statistical testing. Would you use a one-sample or two-sample test? Why?\n",
    "    <li> In this situation, is it appropriate to use the $t$ or $z$ statistic? \n",
    "    <li> Now try using the other test. How is the result be different? Why?\n",
    "    </ul>\n",
    "<li>  Draw a small sample of size 10 from the data and repeat both frequentist tests. \n",
    "    <ul>\n",
    "    <li> Which one is the correct one to use? \n",
    "    <li> What do you notice? What does this tell you about the difference in application of the $t$ and $z$ statistic?\n",
    "    </ul>\n",
    "<li>  At what temperature should we consider someone's temperature to be \"abnormal\"?\n",
    "    <ul>\n",
    "    <li> As in the previous example, try calculating everything using the boostrap approach, as well as the frequentist approach.\n",
    "    <li> Start by computing the margin of error and confidence interval. When calculating the confidence interval, keep in mind that you should use the appropriate formula for one draw, and not N draws.\n",
    "    </ul>\n",
    "<li>  Is there a significant difference between males and females in normal temperature?\n",
    "    <ul>\n",
    "    <li> What testing approach did you use and why?\n",
    "    <li> Write a story with your conclusion in the context of the original problem.\n",
    "    </ul>\n",
    "</ol>\n",
    "\n",
    "You can include written notes in notebook cells using Markdown: \n",
    "   - In the control panel at the top, choose Cell > Cell Type > Markdown\n",
    "   - Markdown syntax: http://nestacms.com/docs/creating-content/markdown-cheat-sheet\n",
    "\n",
    "#### Resources\n",
    "\n",
    "+ Information and data sources: http://www.amstat.org/publications/jse/datasets/normtemp.txt, http://www.amstat.org/publications/jse/jse_data_archive.htm\n",
    "+ Markdown syntax: http://nestacms.com/docs/creating-content/markdown-cheat-sheet\n",
    "\n",
    "****"
   ]
  },
  {
   "cell_type": "code",
   "execution_count": 1,
   "metadata": {
    "collapsed": false
   },
   "outputs": [
    {
     "name": "stdout",
     "output_type": "stream",
     "text": [
      "<class 'pandas.core.frame.DataFrame'>\n",
      "RangeIndex: 130 entries, 0 to 129\n",
      "Data columns (total 3 columns):\n",
      "temperature    130 non-null float64\n",
      "gender         130 non-null object\n",
      "heart_rate     130 non-null float64\n",
      "dtypes: float64(2), object(1)\n",
      "memory usage: 3.1+ KB\n"
     ]
    }
   ],
   "source": [
    "import pandas as pd\n",
    "import numpy as np\n",
    "import matplotlib.pyplot as plt\n",
    "import seaborn as sns\n",
    "\n",
    "df = pd.read_csv('data/human_body_temperature.csv')\n",
    "df.info()"
   ]
  },
  {
   "cell_type": "code",
   "execution_count": 2,
   "metadata": {
    "collapsed": true
   },
   "outputs": [],
   "source": [
    "def ecdf(series):\n",
    "    ''' Return x-axis and values of the sample CDF of a list of oservations'''\n",
    "    y = np.arange(len(series))/len(series)\n",
    "    x = np.sort(series)\n",
    "    return x,y\n",
    "\n",
    "\n",
    "def bs_statistic (obs, func, size = 1) :\n",
    "    ''' Return statistics from bootstrapped samples '''\n",
    "    stat = np.empty(size)\n",
    "    for  i in range(size):\n",
    "        stat[i] = func(np.random.choice(obs,len(obs)))\n",
    "        \n",
    "    return stat    \n",
    "\n",
    "def bs_unpaired_statistics (series1, series2, fun, size = 1) :\n",
    "    ''' Return statistics from permutated bootstrapped samples '''\n",
    "    series = series1.append(series2)\n",
    "    stat = np.empty(size)\n",
    "    for i in range(size):\n",
    "        temp_perm = np.random.permutation(series)\n",
    "        stat[i] = fun(temp_perm[:len(series1)]) - fun(temp_perm[len(series1):])\n",
    "    return stat\n",
    "  "
   ]
  },
  {
   "cell_type": "code",
   "execution_count": 3,
   "metadata": {
    "collapsed": false
   },
   "outputs": [
    {
     "name": "stdout",
     "output_type": "stream",
     "text": [
      "The observed temperature has sample mean 98.24923076923078 and sample standard deviation 0.7331831580389454\n"
     ]
    }
   ],
   "source": [
    "mu_temp = df.temperature.mean()\n",
    "sigma_temp = df.temperature.std(ddof=1)\n",
    "\n",
    "print('The observed temperature has sample mean ' + str(mu_temp) + ' and sample standard deviation ' + str(sigma_temp))"
   ]
  },
  {
   "cell_type": "markdown",
   "metadata": {},
   "source": [
    "### 1) The hypothesis of normality for the temperature distribution cannot be rejected."
   ]
  },
  {
   "cell_type": "code",
   "execution_count": 4,
   "metadata": {
    "collapsed": false
   },
   "outputs": [
    {
     "data": {
      "image/png": "[encoded data removed]",
      "text/plain": [
       "<matplotlib.figure.Figure at 0x7f5ff881f0b8>"
      ]
     },
     "metadata": {},
     "output_type": "display_data"
    }
   ],
   "source": [
    "# Compare empirical CDF of the temperature data with the CDF of a Normal distr with mean mu_temp and std std_temp\n",
    "\n",
    "sns.set()\n",
    "\n",
    "plt.hist(df['temperature'], normed=1, bins=15)\n",
    "x = 96 + ((np.arange(0,101))/100)*5 \n",
    "plt.plot(x, 1/(sigma_temp * np.sqrt(2 * np.pi)) * np.exp( - (x - mu_temp)**2 / (2 * sigma_temp**2) ),linewidth=2, color='r')\n",
    "plt.show()\n"
   ]
  },
  {
   "cell_type": "code",
   "execution_count": 5,
   "metadata": {
    "collapsed": false
   },
   "outputs": [
    {
     "name": "stdout",
     "output_type": "stream",
     "text": [
      "The p-value for the normality test is 0.258747986349: the normality assumption cannot be rejected\n"
     ]
    }
   ],
   "source": [
    "# Perform normality test and plot the p-value\n",
    "\n",
    "from scipy.stats.mstats import normaltest\n",
    "\n",
    "stat_temp_norm, pi_temp_norm = normaltest(df['temperature'])\n",
    "\n",
    "print('The p-value for the normality test is ' + str(pi_temp_norm) + ': the normality assumption cannot be rejected')"
   ]
  },
  {
   "cell_type": "markdown",
   "metadata": {},
   "source": [
    "### (2) There are only 130 observations, not a very large sample. \n",
    "\n",
    "As for the independence, it depends on the circumstances in which the observations are captured. For insance, if multiple observations come from the same individual, those won't be independent. Since in the description of the dataset, this is not specified, I assume that the samples are taken by different individual under similar environmental conditions."
   ]
  },
  {
   "cell_type": "code",
   "execution_count": 6,
   "metadata": {
    "collapsed": false
   },
   "outputs": [
    {
     "data": {
      "image/png": "[encoded data removed]",
      "text/plain": [
       "<matplotlib.figure.Figure at 0x7f5ff5509c50>"
      ]
     },
     "metadata": {},
     "output_type": "display_data"
    }
   ],
   "source": [
    "sns.stripplot(data = df, x = 'gender', y = 'temperature', jitter = True)\n",
    "plt.show()\n",
    "\n"
   ]
  },
  {
   "cell_type": "markdown",
   "metadata": {},
   "source": [
    "### (3 - a) - We bootsrap 10000 copies of the meand and observe that the 95% confidence interval for the mean temperature is [ 98.12307692,  98.37384615]. In particular 98.6 is way above.\n",
    "\n",
    "### We also compute the p-value for the 98.6 mean and obtain a value of 0.0, hence the hypothesis that the mean temperature is 98.6 can be rejected."
   ]
  },
  {
   "cell_type": "code",
   "execution_count": 7,
   "metadata": {
    "collapsed": false
   },
   "outputs": [
    {
     "name": "stdout",
     "output_type": "stream",
     "text": [
      "The confidence interval for the mean temperature is  [ 98.12307692  98.37384615]\n"
     ]
    }
   ],
   "source": [
    "# Sample 10000 bootstrapped means\n",
    "bs_mean = bs_statistic (df['temperature'], np.mean, 10000)\n",
    "\n",
    "print('The confidence interval for the mean temperature is ', np.percentile(bs_mean, [2.5, 97.5]))"
   ]
  },
  {
   "cell_type": "code",
   "execution_count": 9,
   "metadata": {
    "collapsed": false
   },
   "outputs": [
    {
     "name": "stdout",
     "output_type": "stream",
     "text": [
      "The p-value for the test of mean=98.6 is 0.0: the hypothesis can be rejected\n"
     ]
    }
   ],
   "source": [
    "diff_obs = mu_temp - 98.6\n",
    "\n",
    "# Enforce null hypothesis: H_0 is that mean temperature is 98.6\n",
    "temp_rescaled = df['temperature'] - diff_obs\n",
    "\n",
    "# Sample 10000 bootstrapped means\n",
    "bs_mean = bs_statistic (temp_rescaled, np.mean, 10000)\n",
    "\n",
    "# Compute the p-value\n",
    "p_temp = np.sum( bs_mean <= mu_temp )/len(bs_mean)\n",
    "print('The p-value for the test of mean=98.6 is ' + str(p_temp) + ': the hypothesis can be rejected')"
   ]
  },
  {
   "cell_type": "markdown",
   "metadata": {},
   "source": [
    "### (3-b) We aim to compare the mean of the observed temperatures with 98.6, hence a one-sample t-test looks like the way to go.\n",
    "\n",
    "Since we do not know the std of the temperature, we should perform a t-test with 129 degrees of freedom. As required we also treat the statistic as normally distributed. Note that the p-value in the latter case is even lower. The reason for this is that the student distribution converges to a normal as the degrees of freedom grow to infinity and has heavier tails than the normal, i.e., more likely to have extreme outcomes."
   ]
  },
  {
   "cell_type": "code",
   "execution_count": 11,
   "metadata": {
    "collapsed": false
   },
   "outputs": [
    {
     "name": "stdout",
     "output_type": "stream",
     "text": [
      "The p-values are given by 1.20531602078e-07 and 2.45107850706e-08 respectively when we consider the statistic to be student and normally distributed\n"
     ]
    }
   ],
   "source": [
    "# Compute the t-statistic\n",
    "t_stat = (mu_temp - 98.6) / (sigma_temp/np.sqrt(len(df['temperature'])))\n",
    "\n",
    "from scipy.stats import t, norm\n",
    "pi_t = t.cdf(t_stat, len(df['temperature']) -1)\n",
    "pi_z = norm.cdf(t_stat)\n",
    "\n",
    "print('The p-values are given by ' +str(pi_t) + ' and ' +str(pi_z) + ' respectively when we consider the statistic to be student and normally distributed')\n"
   ]
  },
  {
   "cell_type": "markdown",
   "metadata": {},
   "source": [
    "### (4) When the sample is small we cannot treat the statistic as normally distributed, the bias is very large.\n"
   ]
  },
  {
   "cell_type": "code",
   "execution_count": 12,
   "metadata": {
    "collapsed": false
   },
   "outputs": [
    {
     "name": "stdout",
     "output_type": "stream",
     "text": [
      "The p-values are given by 0.0208632760645 and 0.00883021692489 respectively when we consider the statistic to be student and normally distributed\n"
     ]
    }
   ],
   "source": [
    "np.random.seed(1)\n",
    "\n",
    "# Sample 10 observations from df['temperature]\n",
    "obs_10 = np.random.choice(df['temperature'],10)\n",
    "mu_temp_10 = np.mean(obs_10)\n",
    "sigma_temp_10 = np.std(obs_10, ddof=1)\n",
    "\n",
    "# Compute the t-statistic\n",
    "stat_10 = (mu_temp_10 - 98.6) / (sigma_temp_10/np.sqrt(10))\n",
    "\n",
    "from scipy.stats import t, norm\n",
    "pi_t = t.cdf(stat_10, 9)\n",
    "pi_z = norm.cdf(stat_10)\n",
    "\n",
    "print('The p-values are given by ' +str(pi_t) + ' and ' +str(pi_z) + ' respectively when we consider the statistic to be student and normally distributed')\n"
   ]
  },
  {
   "cell_type": "markdown",
   "metadata": {},
   "source": [
    "### (5) We samples 10000 observations from a normal distribution with mean and std equal to the observed sample.  "
   ]
  },
  {
   "cell_type": "code",
   "execution_count": 14,
   "metadata": {
    "collapsed": false
   },
   "outputs": [
    {
     "name": "stdout",
     "output_type": "stream",
     "text": [
      "Only 10% of the population has a temperature higher than 99.1922702422 degrees.\n"
     ]
    }
   ],
   "source": [
    "bs_extraction = np.random.normal(mu_temp,sigma_temp, 10000)\n",
    "np.percentile(bs_extraction,[75, 90, 95, 97.5, 99])\n",
    "\n",
    "print('Only 10% of the population has a temperature higher than ' + str(np.percentile(bs_extraction,90)) + ' degrees.')"
   ]
  },
  {
   "cell_type": "markdown",
   "metadata": {},
   "source": [
    "### (6) From the plot of the comulative distribution we suspect that the two distributions are not the same. Moreover the difference in the mean is quite large. We test the hypothesis $H_0: \\mu_M = \\mu_F$ "
   ]
  },
  {
   "cell_type": "code",
   "execution_count": 15,
   "metadata": {
    "collapsed": false
   },
   "outputs": [
    {
     "data": {
      "image/png": "[encoded data removed]",
      "text/plain": [
       "<matplotlib.figure.Figure at 0x7f5ff2940208>"
      ]
     },
     "metadata": {},
     "output_type": "display_data"
    },
    {
     "name": "stdout",
     "output_type": "stream",
     "text": [
      "The observed difference in means is 0.289230769230727\n"
     ]
    }
   ],
   "source": [
    "temp_fem = df.loc[df['gender'] == 'F', 'temperature']\n",
    "temp_male = df.loc[df['gender'] == 'M', 'temperature']\n",
    "\n",
    "x_male,y_male = ecdf(temp_male)\n",
    "x_fem,y_fem = ecdf(temp_fem)\n",
    "\n",
    "plt.plot(x_male,y_male, marker = '.', linestyle = 'None', label = 'M')\n",
    "plt.plot(x_fem,y_fem, marker = '.', linestyle = 'None', label = 'F')\n",
    "plt.legend()\n",
    "plt.show()\n",
    "\n",
    "diff_means = np.mean(temp_fem) - np.mean(temp_male)\n",
    "\n",
    "print('The observed difference in means is ' + str(diff_means))"
   ]
  },
  {
   "cell_type": "code",
   "execution_count": 16,
   "metadata": {
    "collapsed": false
   },
   "outputs": [
    {
     "data": {
      "text/plain": [
       "0.01"
      ]
     },
     "execution_count": 16,
     "metadata": {},
     "output_type": "execute_result"
    }
   ],
   "source": [
    "# Compute the bootstrapped difference of means by enforcing the null-hypothesis stating that the means are the same\n",
    "bs_diff = bs_unpaired_statistics (temp_fem, temp_male, np.mean, size = 100)\n",
    "\n",
    "pi_value = np.sum(bs_diff > diff_means)/len(bs_diff)\n",
    "pi_value"
   ]
  },
  {
   "cell_type": "code",
   "execution_count": null,
   "metadata": {
    "collapsed": true
   },
   "outputs": [],
   "source": []
  }
 ],
 "metadata": {
  "kernelspec": {
   "display_name": "Python 3",
   "language": "python",
   "name": "python3"
  },
  "language_info": {
   "codemirror_mode": {
    "name": "ipython",
    "version": 3
   },
   "file_extension": ".py",
   "mimetype": "text/x-python",
   "name": "python",
   "nbconvert_exporter": "python",
   "pygments_lexer": "ipython3",
   "version": "3.6.4"
  }
 },
 "nbformat": 4,
 "nbformat_minor": 1
}
