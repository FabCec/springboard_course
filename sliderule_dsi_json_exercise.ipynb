{
 "cells": [
  {
   "cell_type": "markdown",
   "metadata": {},
   "source": [
    "****\n",
    "## JSON exercise\n",
    "\n",
    "Using data in file 'data/world_bank_projects.json' and the techniques demonstrated above,\n",
    "1. Find the 10 countries with most projects\n",
    "2. Find the top 10 major project themes (using column 'mjtheme_namecode')\n",
    "3. In 2. above you will notice that some entries have only the code and the name is missing. Create a dataframe with the missing names filled in."
   ]
  },
  {
   "cell_type": "code",
   "execution_count": 1,
   "metadata": {
    "collapsed": true
   },
   "outputs": [],
   "source": [
    "import pandas as pd\n",
    "import json"
   ]
  },
  {
   "cell_type": "markdown",
   "metadata": {},
   "source": [
    " ### Load the dataset\n",
    " \n",
    " The json file is located in 'data/world_bank_projects.json'"
   ]
  },
  {
   "cell_type": "code",
   "execution_count": 2,
   "metadata": {
    "collapsed": false
   },
   "outputs": [],
   "source": [
    "with open('data/world_bank_projects.json','r') as json_file:\n",
    "    json_data = json.load(json_file)\n"
   ]
  },
  {
   "cell_type": "markdown",
   "metadata": {},
   "source": [
    "### Turn the json file into a pandas DataFrame"
   ]
  },
  {
   "cell_type": "code",
   "execution_count": 3,
   "metadata": {
    "collapsed": false
   },
   "outputs": [],
   "source": [
    "df = pd.DataFrame(json_data)"
   ]
  },
  {
   "cell_type": "code",
   "execution_count": 4,
   "metadata": {
    "collapsed": false
   },
   "outputs": [
    {
     "name": "stdout",
     "output_type": "stream",
     "text": [
      "<class 'pandas.core.frame.DataFrame'>\n",
      "RangeIndex: 500 entries, 0 to 499\n",
      "Data columns (total 50 columns):\n",
      "_id                         500 non-null object\n",
      "approvalfy                  500 non-null object\n",
      "board_approval_month        500 non-null object\n",
      "boardapprovaldate           500 non-null object\n",
      "borrower                    485 non-null object\n",
      "closingdate                 370 non-null object\n",
      "country_namecode            500 non-null object\n",
      "countrycode                 500 non-null object\n",
      "countryname                 500 non-null object\n",
      "countryshortname            500 non-null object\n",
      "docty                       446 non-null object\n",
      "envassesmentcategorycode    430 non-null object\n",
      "grantamt                    500 non-null int64\n",
      "ibrdcommamt                 500 non-null int64\n",
      "id                          500 non-null object\n",
      "idacommamt                  500 non-null int64\n",
      "impagency                   472 non-null object\n",
      "lendinginstr                495 non-null object\n",
      "lendinginstrtype            495 non-null object\n",
      "lendprojectcost             500 non-null int64\n",
      "majorsector_percent         500 non-null object\n",
      "mjsector_namecode           500 non-null object\n",
      "mjtheme                     491 non-null object\n",
      "mjtheme_namecode            500 non-null object\n",
      "mjthemecode                 500 non-null object\n",
      "prodline                    500 non-null object\n",
      "prodlinetext                500 non-null object\n",
      "productlinetype             500 non-null object\n",
      "project_abstract            362 non-null object\n",
      "project_name                500 non-null object\n",
      "projectdocs                 446 non-null object\n",
      "projectfinancialtype        500 non-null object\n",
      "projectstatusdisplay        500 non-null object\n",
      "regionname                  500 non-null object\n",
      "sector                      500 non-null object\n",
      "sector1                     500 non-null object\n",
      "sector2                     380 non-null object\n",
      "sector3                     265 non-null object\n",
      "sector4                     174 non-null object\n",
      "sector_namecode             500 non-null object\n",
      "sectorcode                  500 non-null object\n",
      "source                      500 non-null object\n",
      "status                      500 non-null object\n",
      "supplementprojectflg        498 non-null object\n",
      "theme1                      500 non-null object\n",
      "theme_namecode              491 non-null object\n",
      "themecode                   491 non-null object\n",
      "totalamt                    500 non-null int64\n",
      "totalcommamt                500 non-null int64\n",
      "url                         500 non-null object\n",
      "dtypes: int64(6), object(44)\n",
      "memory usage: 195.4+ KB\n"
     ]
    }
   ],
   "source": [
    "df.info()"
   ]
  },
  {
   "cell_type": "markdown",
   "metadata": {},
   "source": [
    "## Exercise 1"
   ]
  },
  {
   "cell_type": "markdown",
   "metadata": {},
   "source": [
    "Observe that the projects may be assigned to whole continents/regions. We filter these projects out so as to maintain the projects relative to single countries only. The projects to be filtered out have the entry in the column countrycode equal to a number and a capital letter instead of two capital letters. "
   ]
  },
  {
   "cell_type": "code",
   "execution_count": 5,
   "metadata": {
    "collapsed": false
   },
   "outputs": [],
   "source": [
    "import re\n",
    "\n",
    "# Pattern identifies the string associated to a proper country code\n",
    "pattern = re.compile('[A-Z_][A-Z_]')\n",
    "non_continents = [bool(pattern.match(x)) for x in df['countrycode']]\n",
    "\n",
    "# We keep only the entries associated to single country projects\n",
    "df_non_continents = df[non_continents]"
   ]
  },
  {
   "cell_type": "code",
   "execution_count": 6,
   "metadata": {
    "collapsed": false
   },
   "outputs": [
    {
     "data": {
      "text/plain": [
       "People's Republic of China         19\n",
       "Republic of Indonesia              19\n",
       "Socialist Republic of Vietnam      17\n",
       "Republic of India                  16\n",
       "Republic of Yemen                  13\n",
       "People's Republic of Bangladesh    12\n",
       "Nepal                              12\n",
       "Kingdom of Morocco                 12\n",
       "Republic of Mozambique             11\n",
       "Islamic Republic of Pakistan        9\n",
       "Name: countryname, dtype: int64"
      ]
     },
     "execution_count": 6,
     "metadata": {},
     "output_type": "execute_result"
    }
   ],
   "source": [
    "NumProjects = df_non_continents['countryname'].value_counts()\n",
    "NumProjects[:10]"
   ]
  },
  {
   "cell_type": "markdown",
   "metadata": {},
   "source": [
    "## Exercises 2 and 3\n",
    "\n",
    "The various projects have multiple namecodes, the entry of the column 'mjtheme_namecode' is a list of dictionaries (see the cell below). Each dictionary has a key 'code' that contains the code of the project and a key 'name' that refers to the code and is missing. "
   ]
  },
  {
   "cell_type": "code",
   "execution_count": 7,
   "metadata": {
    "collapsed": false
   },
   "outputs": [
    {
     "data": {
      "text/plain": [
       "[{'code': '8', 'name': 'Human development'}, {'code': '11', 'name': ''}]"
      ]
     },
     "execution_count": 7,
     "metadata": {},
     "output_type": "execute_result"
    }
   ],
   "source": [
    "df.loc[0,'mjtheme_namecode']   # Note the missing name in the second dictionary"
   ]
  },
  {
   "cell_type": "markdown",
   "metadata": {},
   "source": [
    "Ex3. We now create a dictionary that matches the code (used as key) to the relative name. Then we use the dictionary to fill the blank names in the column 'mjtheme_namecode'"
   ]
  },
  {
   "cell_type": "code",
   "execution_count": 8,
   "metadata": {
    "collapsed": false
   },
   "outputs": [
    {
     "data": {
      "text/plain": [
       "[{'code': '8', 'name': 'Human development'},\n",
       " {'code': '11', 'name': 'Environment and natural resources management'}]"
      ]
     },
     "execution_count": 8,
     "metadata": {},
     "output_type": "execute_result"
    }
   ],
   "source": [
    "MyDict = {}\n",
    "\n",
    "# We read the column 'mjtheme_namecode' and add the codes:names to MyDict \n",
    "for Project_Code_List_Dict in df['mjtheme_namecode'] :\n",
    "    for Project_Code_Dict in Project_Code_List_Dict :\n",
    "        # We enter the if clause if the code is missing in MyDict and the name associated is present \n",
    "        if (Project_Code_Dict['code'] not in MyDict) & (Project_Code_Dict['name'] != '') :\n",
    "            MyDict[Project_Code_Dict['code']] = Project_Code_Dict['name']\n",
    "\n",
    "# We now have MyDict at disposal, i.e., codes as keys and names as values\n",
    "# We read again the column 'mjtheme_namecode' and add the names where needed\n",
    "for num_row, Project_Code_List_Dict in enumerate(df['mjtheme_namecode']) :\n",
    "    for num_dict, Project_Code_Dict in enumerate(Project_Code_List_Dict) :\n",
    "        # We enter the if clause if the name is missing\n",
    "        if (Project_Code_Dict['name'] == '') :\n",
    "            # Read the name from MyDict\n",
    "            NameToAdd = MyDict[Project_Code_Dict['code']]\n",
    "            # Access the correct point in the DataFrame\n",
    "            df.loc[num_row,'mjtheme_namecode'][num_dict]['name'] = NameToAdd\n",
    "\n",
    "df.loc[0,'mjtheme_namecode']       # Note that the missing name in the second dictionary is now present     "
   ]
  },
  {
   "cell_type": "markdown",
   "metadata": {},
   "source": [
    "Ex2. We now write a function extracting the list of codes from a list of dictionaries with a code entry."
   ]
  },
  {
   "cell_type": "code",
   "execution_count": 9,
   "metadata": {
    "collapsed": false
   },
   "outputs": [],
   "source": [
    "def Extract_Proj_Codes(List_Dict):\n",
    "    List_Values = [d['code']  for d in List_Dict]\n",
    "    return List_Values"
   ]
  },
  {
   "cell_type": "code",
   "execution_count": 10,
   "metadata": {
    "collapsed": false
   },
   "outputs": [],
   "source": [
    "# Use list comprehension and Extract_Proj_Codes to obtain a list of lists containing the codes of the projects\n",
    "List_Codes_Matrix = [Extract_Proj_Codes(ProjCodes) for ProjCodes in df['mjtheme_namecode']]\n",
    "\n",
    "# Flatten the list of lists and change the codes in their names through MyDict\n",
    "List_Codes = [MyDict[code] for sublist in List_Codes_Matrix for code in sublist]"
   ]
  },
  {
   "cell_type": "code",
   "execution_count": 11,
   "metadata": {
    "collapsed": false
   },
   "outputs": [
    {
     "data": {
      "text/plain": [
       "[('Environment and natural resources management', 250),\n",
       " ('Rural development', 216),\n",
       " ('Human development', 210),\n",
       " ('Public sector governance', 199),\n",
       " ('Social protection and risk management', 168),\n",
       " ('Financial and private sector development', 146),\n",
       " ('Social dev/gender/inclusion', 130),\n",
       " ('Trade and integration', 77),\n",
       " ('Urban development', 50),\n",
       " ('Economic management', 38)]"
      ]
     },
     "execution_count": 11,
     "metadata": {},
     "output_type": "execute_result"
    }
   ],
   "source": [
    "from collections import Counter\n",
    "\n",
    "# Print the 10 most common type of projects with their number\n",
    "Counter(List_Codes).most_common(10)"
   ]
  }
 ],
 "metadata": {
  "kernelspec": {
   "display_name": "Python 3",
   "language": "python",
   "name": "python3"
  },
  "language_info": {
   "codemirror_mode": {
    "name": "ipython",
    "version": 3
   },
   "file_extension": ".py",
   "mimetype": "text/x-python",
   "name": "python",
   "nbconvert_exporter": "python",
   "pygments_lexer": "ipython3",
   "version": "3.6.4"
  }
 },
 "nbformat": 4,
 "nbformat_minor": 0
}
